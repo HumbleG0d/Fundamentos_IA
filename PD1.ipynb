{
 "cells": [
  {
   "cell_type": "markdown",
   "id": "06424c82",
   "metadata": {},
   "source": [
    "# Busqueda no informada\n",
    "\n",
    "![Laberinto](images/Captura%20de%20pantalla%202025-04-07%20163511.png)"
   ]
  },
  {
   "cell_type": "markdown",
   "id": "47408faa",
   "metadata": {},
   "source": [
    "## Número de estados: \n",
    "- *Posición del Espacio Vacío ( ):* \n",
    "    \n",
    "    El espacio vacío puede estar en cualquiera de las 25 celdas (matriz 5x5).\n",
    "\n",
    "- *Permutaciones de los Números:* \n",
    "\n",
    "    Los números del 1 al 24 están distribuidos en las 24 celdas restantes.\n",
    "\n",
    "    El número de permutaciones posibles es 24! (factorial de 24).\n",
    "\n",
    "Estados totales = Posiciones del vacío X Permutaciones de números = 25×24!"
   ]
  },
  {
   "cell_type": "markdown",
   "id": "dc775efb",
   "metadata": {},
   "source": [
    "# DFS - Busqueda por profundidad"
   ]
  },
  {
   "cell_type": "code",
   "execution_count": 1,
   "id": "d0f353da",
   "metadata": {},
   "outputs": [],
   "source": [
    "laberinto = {\n",
    "    (0,0): [(1,0), (0,1)],\n",
    "    (1,0): [(1,1)],\n",
    "    (0,1): [(0,2)],\n",
    "    (1,1): [(2,1)],\n",
    "    (0,2): [(1,2), (0,3)],\n",
    "    (2,1): [(2,2), (3,1)],\n",
    "    (1,2): [(1,3)],\n",
    "    (0,3): [(0,4)],\n",
    "    (2,2): [(3,2)],\n",
    "    (3,1): [(4,1)],\n",
    "    (1,3): [],\n",
    "    (0,4): [],\n",
    "    (3,2): [(4,2)],\n",
    "    (4,1): [],\n",
    "    (4,2): [(4,3)],\n",
    "    (4,3): [(4,4)],\n",
    "    (3,3): [(3,4)],\n",
    "    (4,4): []\n",
    "}"
   ]
  },
  {
   "cell_type": "code",
   "execution_count": null,
   "id": "91900d9f",
   "metadata": {},
   "outputs": [
    {
     "name": "stdout",
     "output_type": "stream",
     "text": [
      "Camino encontrado: [(0, 0), (1, 0), (1, 1), (2, 1), (2, 2), (3, 2), (4, 2), (4, 3), (4, 4)]\n"
     ]
    }
   ],
   "source": [
    "def dfs(grafo, nodo, objetivo, visitados=None, camino=None):\n",
    "    if visitados is None:\n",
    "        visitados = set()\n",
    "    if camino is None:\n",
    "        camino = []\n",
    "    \n",
    "    visitados.add(nodo)\n",
    "    camino.append(nodo)\n",
    "    \n",
    "    if nodo == objetivo:\n",
    "        return camino\n",
    "    \n",
    "    for vecino in grafo[nodo]:\n",
    "        if vecino not in visitados:\n",
    "            resultado = dfs(grafo, vecino, objetivo, visitados.copy(), camino.copy())\n",
    "            if resultado:\n",
    "                return resultado\n",
    "    \n",
    "    return None\n",
    "\n",
    "camino = dfs(laberinto, (0,0), (4,4))\n",
    "print(\"Camino encontrado:\", camino)"
   ]
  },
  {
   "cell_type": "markdown",
   "id": "771ec38b",
   "metadata": {},
   "source": [
    "# BFS - Busqueda por anchura\n"
   ]
  },
  {
   "cell_type": "code",
   "execution_count": null,
   "id": "025e0ff9",
   "metadata": {},
   "outputs": [
    {
     "name": "stdout",
     "output_type": "stream",
     "text": [
      "Camino más corto: [(0, 0), (1, 0), (1, 1), (2, 1), (2, 2), (3, 2), (4, 2), (4, 3), (4, 4)]\n"
     ]
    }
   ],
   "source": [
    "from collections import deque\n",
    "\n",
    "def bfs(grafo, inicio, objetivo):\n",
    "    cola = deque([(inicio, [inicio])])\n",
    "    visitados = set()\n",
    "\n",
    "    while cola:\n",
    "        nodo, camino = cola.popleft()\n",
    "        if nodo == objetivo:\n",
    "            return camino\n",
    "        for vecino in grafo[nodo]:\n",
    "            if vecino not in visitados:\n",
    "                visitados.add(vecino)\n",
    "                cola.append((vecino, camino + [vecino]))\n",
    "    return None\n",
    "\n",
    "camino_optimo = bfs(laberinto, (0,0), (4,4))\n",
    "print(\"Camino más corto:\", camino_optimo)"
   ]
  },
  {
   "cell_type": "markdown",
   "id": "2878e8a3",
   "metadata": {},
   "source": [
    "# Busqueda Costo Uniforme"
   ]
  },
  {
   "cell_type": "code",
   "execution_count": 4,
   "id": "e47bca19",
   "metadata": {},
   "outputs": [
    {
     "name": "stdout",
     "output_type": "stream",
     "text": [
      "Camino óptimo: [(0, 0), (1, 0), (1, 1), (2, 1), (2, 2), (3, 2), (4, 2), (4, 3), (4, 4)]\n"
     ]
    }
   ],
   "source": [
    "import heapq\n",
    "\n",
    "def ucs(laberinto, inicio, objetivo):\n",
    "    costo = {nodo: float('inf') for nodo in laberinto}\n",
    "    padre = {nodo: None for nodo in laberinto}\n",
    "    costo[inicio] = 0\n",
    "    cola_prioridad = []\n",
    "    heapq.heappush(cola_prioridad, (0, inicio))  # (costo_acumulado, nodo)\n",
    "\n",
    "    while cola_prioridad:\n",
    "        costo_u, u = heapq.heappop(cola_prioridad)\n",
    "        \n",
    "        if u == objetivo:\n",
    "            # Reconstruir el camino\n",
    "            camino = []\n",
    "            while u is not None:\n",
    "                camino.append(u)\n",
    "                u = padre[u]\n",
    "            return camino[::-1]  \n",
    "        \n",
    "        for v in laberinto[u]:\n",
    "            # Asumimos peso = 1 para todos los movimientos (puedes personalizar)\n",
    "            nuevo_costo = costo_u + 1\n",
    "            if nuevo_costo < costo[v]:\n",
    "                costo[v] = nuevo_costo\n",
    "                padre[v] = u\n",
    "                heapq.heappush(cola_prioridad, (nuevo_costo, v))\n",
    "    \n",
    "    return \"No se encontró camino\"\n",
    "\n",
    "inicio = (0, 0)\n",
    "objetivo = (4, 4)\n",
    "camino_optimo = ucs(laberinto, inicio, objetivo)\n",
    "print(\"Camino óptimo:\", camino_optimo)"
   ]
  },
  {
   "cell_type": "markdown",
   "id": "e2b801e1",
   "metadata": {},
   "source": [
    "![Grafo](images/image.png)"
   ]
  },
  {
   "cell_type": "markdown",
   "id": "f1d6df8e",
   "metadata": {},
   "source": [
    "## Número de estados: \n",
    "\n",
    "- Número de estados en G: 10 (uno por cada nodo).\n",
    "\n",
    "- Cada estado es un nodo del grafo, y las aristas son las acciones válidas para cambiar de estado."
   ]
  },
  {
   "cell_type": "code",
   "execution_count": 1,
   "id": "889ca4b2",
   "metadata": {},
   "outputs": [],
   "source": [
    "grafo = {\n",
    "    0: [1, 3 , 4],\n",
    "    1: [0 , 3 , 2 , 7],\n",
    "    3: [0 , 1 , 2 , 6 , 4 , 5],\n",
    "    4: [0, 3 , 5],\n",
    "    2: [1, 3 , 6],\n",
    "    7: [1, 6 , 8],\n",
    "    6: [2, 8 , 5 , 7],\n",
    "    5: [3 , 4 , 6 , 9],\n",
    "    8: [6 , 7 , 9],\n",
    "    9: [5 , 8]\n",
    "}"
   ]
  },
  {
   "cell_type": "markdown",
   "id": "f2cf7976",
   "metadata": {},
   "source": [
    "# DFS"
   ]
  },
  {
   "cell_type": "code",
   "execution_count": 6,
   "id": "40464701",
   "metadata": {},
   "outputs": [
    {
     "name": "stdout",
     "output_type": "stream",
     "text": [
      "Camino encontrado con DFS: [0, 1, 3, 2, 6, 8, 9]\n"
     ]
    }
   ],
   "source": [
    "def dfs(grafo, inicio, objetivo, visitados=None, camino=None):\n",
    "    if visitados is None:\n",
    "        visitados = set()\n",
    "    if camino is None:\n",
    "        camino = []\n",
    "    \n",
    "    visitados.add(inicio)\n",
    "    camino.append(inicio)\n",
    "    \n",
    "    if inicio == objetivo:\n",
    "        return camino  # ¡Solución encontrada!\n",
    "    \n",
    "    for vecino in grafo[inicio]:\n",
    "        if vecino not in visitados:\n",
    "            resultado = dfs(grafo, vecino, objetivo, visitados, camino.copy())\n",
    "            if resultado is not None:\n",
    "                return resultado  # Propagamos la solución si se encontró\n",
    "    \n",
    "    return None  # No hay solución por esta rama\n",
    "\n",
    "camino_dfs = dfs(grafo, inicio=0, objetivo=9)\n",
    "print(\"Camino encontrado con DFS:\", camino_dfs if camino_dfs else \"No hay solución\")"
   ]
  },
  {
   "cell_type": "markdown",
   "id": "2a06ee2e",
   "metadata": {},
   "source": [
    "# BFS"
   ]
  },
  {
   "cell_type": "code",
   "execution_count": 8,
   "id": "a575ab25",
   "metadata": {},
   "outputs": [
    {
     "name": "stdout",
     "output_type": "stream",
     "text": [
      "Camino más corto con BFS: [0, 3, 5, 9]\n"
     ]
    }
   ],
   "source": [
    "from collections import deque\n",
    "\n",
    "def bfs(grafo, inicio, objetivo):\n",
    "    cola = deque([(inicio, [inicio])])\n",
    "    visitados = set()\n",
    "    \n",
    "    while cola:\n",
    "        nodo, camino = cola.popleft()\n",
    "        if nodo == objetivo:\n",
    "            return camino\n",
    "        for vecino in grafo[nodo]:\n",
    "            if vecino not in visitados:\n",
    "                visitados.add(vecino)\n",
    "                cola.append((vecino, camino + [vecino]))\n",
    "    return None\n",
    "\n",
    "camino_bfs = bfs(grafo, inicio=0, objetivo=9)\n",
    "print(\"Camino más corto con BFS:\", camino_bfs)"
   ]
  },
  {
   "cell_type": "markdown",
   "id": "e180d8fc",
   "metadata": {},
   "source": [
    "# Búsqueda costo uniforme"
   ]
  },
  {
   "cell_type": "code",
   "execution_count": 11,
   "id": "e37a3552",
   "metadata": {},
   "outputs": [
    {
     "name": "stdout",
     "output_type": "stream",
     "text": [
      "Camino: [0, 4, 5, 9], Costo total: 3\n"
     ]
    }
   ],
   "source": [
    "# Modificar la función para usar costos personalizados\n",
    "def ucs_costos_personalizados(grafo, inicio, objetivo):\n",
    "    cola_prioridad = []\n",
    "    heapq.heappush(cola_prioridad, (0, inicio, [inicio]))\n",
    "    visitados = set()\n",
    "\n",
    "    while cola_prioridad:\n",
    "        costo, nodo_actual, camino = heapq.heappop(cola_prioridad)\n",
    "        \n",
    "        if nodo_actual == objetivo:\n",
    "            return camino, costo  # Devuelve camino y costo total\n",
    "        \n",
    "        if nodo_actual not in visitados:\n",
    "            visitados.add(nodo_actual)\n",
    "            \n",
    "            for vecino in grafo[nodo_actual]:\n",
    "                if vecino not in visitados:\n",
    "                    # Asignar costos personalizados (ej: 3→5 cuesta 2)\n",
    "                    costo_arista = 2 if (nodo_actual == 3 and vecino == 5) else 1\n",
    "                    nuevo_costo = costo + costo_arista\n",
    "                    heapq.heappush(cola_prioridad, (nuevo_costo, vecino, camino + [vecino]))\n",
    "    \n",
    "    return None\n",
    "\n",
    "camino, costo = ucs_costos_personalizados(grafo, 0, 9)\n",
    "print(f\"Camino: {camino}, Costo total: {costo}\")"
   ]
  }
 ],
 "metadata": {
  "kernelspec": {
   "display_name": "Python 3",
   "language": "python",
   "name": "python3"
  },
  "language_info": {
   "codemirror_mode": {
    "name": "ipython",
    "version": 3
   },
   "file_extension": ".py",
   "mimetype": "text/x-python",
   "name": "python",
   "nbconvert_exporter": "python",
   "pygments_lexer": "ipython3",
   "version": "3.12.7"
  }
 },
 "nbformat": 4,
 "nbformat_minor": 5
}
